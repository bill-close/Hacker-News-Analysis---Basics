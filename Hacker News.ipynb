{
 "cells": [
  {
   "cell_type": "markdown",
   "metadata": {
    "collapsed": true
   },
   "source": [
    "**Evaluation of comments**                   \n",
    "Aim 1: Does Ask HN or Show HN recieve more comments?                       \n",
    "Aim 2: At what time does posts recieve more comments on average?"
   ]
  },
  {
   "cell_type": "code",
   "execution_count": 1,
   "metadata": {},
   "outputs": [
    {
     "name": "stdout",
     "output_type": "stream",
     "text": [
      "['id', 'title', 'url', 'num_points', 'num_comments', 'author', 'created_at']\n",
      "\n",
      "['12296411', 'Ask HN: How to improve my personal website?', '', '2', '6', 'ahmedbaracat', '8/16/2016 9:55']\n"
     ]
    }
   ],
   "source": [
    "from csv import reader\n",
    "opened_file = open(\"hacker_news.csv\")\n",
    "read_file = reader(opened_file)\n",
    "hn = list(read_file)\n",
    "headers = hn[0]\n",
    "hn = hn[1:]\n",
    "\n",
    "print(headers)\n",
    "print()\n",
    "print(hn[7])"
   ]
  },
  {
   "cell_type": "markdown",
   "metadata": {},
   "source": [
    "Make 3 lists and categorise the ask, show and other \"titles\" into these lists. Making sure to convert the titles to lowercase.        \n",
    "Count the number of each in each list at the end\n"
   ]
  },
  {
   "cell_type": "code",
   "execution_count": 2,
   "metadata": {},
   "outputs": [
    {
     "name": "stdout",
     "output_type": "stream",
     "text": [
      "Example from ask list:\n",
      "['12296411', 'Ask HN: How to improve my personal website?', '', '2', '6', 'ahmedbaracat', '8/16/2016 9:55']\n",
      "\n",
      "We have 1744 of ask posts.\n",
      "We have 1162 of show posts.\n",
      "We have 17194 of other posts.\n"
     ]
    }
   ],
   "source": [
    "ask_posts = []\n",
    "show_posts = []\n",
    "other_posts = []\n",
    "\n",
    "for row in hn:\n",
    "    title = row[1]\n",
    "    title_lowercase = title.lower()\n",
    "    \n",
    "    if title_lowercase.startswith('ask hn'):\n",
    "        ask_posts.append(row)\n",
    "    elif title_lowercase.startswith('show hn'):\n",
    "        show_posts.append(row)\n",
    "    else:\n",
    "        other_posts.append(row)\n",
    "\n",
    "print(\"Example from ask list:\")        \n",
    "print(ask_posts[0])\n",
    "print()\n",
    "# print(other_posts[:5])\n",
    "\n",
    "num_ask = len(ask_posts)\n",
    "print(\"We have {num} of ask posts.\".format(num=num_ask))\n",
    "num_show = len(show_posts)\n",
    "print(\"We have {num} of show posts.\".format(num=num_show))\n",
    "num_other = len(other_posts)\n",
    "print(\"We have {num} of other posts.\".format(num=num_other))\n"
   ]
  },
  {
   "cell_type": "markdown",
   "metadata": {},
   "source": [
    "Do ask posts or show posts receive more **comments** on average?"
   ]
  },
  {
   "cell_type": "code",
   "execution_count": 3,
   "metadata": {},
   "outputs": [
    {
     "name": "stdout",
     "output_type": "stream",
     "text": [
      "We have an average of 14.04 comments within ask posts.\n",
      "We have an average of 10.32 comments within show posts.\n",
      "We have an average of 26.87 comments within other posts.\n"
     ]
    }
   ],
   "source": [
    "# Number of average comments for each ask_post\n",
    "total_ask_comments = 0\n",
    "\n",
    "for row in ask_posts:\n",
    "    num_comments = int(row[4])\n",
    "    total_ask_comments += num_comments\n",
    "    \n",
    "avg_ask_comments = total_ask_comments / num_ask\n",
    "\n",
    "# print(avg_ask_comments)\n",
    "    \n",
    "# Number of average comments for each show_post\n",
    "total_show_comments = 0\n",
    "\n",
    "for row in show_posts:\n",
    "    num_comments = int(row[4])\n",
    "    total_show_comments += num_comments\n",
    "    \n",
    "avg_show_comments = total_show_comments / num_show\n",
    "\n",
    "# print(avg_show_comments)\n",
    "\n",
    "# Number of average comments for each other_post\n",
    "total_other_comments = 0\n",
    "\n",
    "for row in other_posts:\n",
    "    num_comments = int(row[4])\n",
    "    total_other_comments += num_comments\n",
    "    \n",
    "avg_other_comments = total_other_comments / num_other\n",
    "\n",
    "# print(avg_other_comments)\n",
    "\n",
    "print(\"We have an average of {num:.2f} comments within ask posts.\".format(num=avg_ask_comments))\n",
    "num_show = len(show_posts)\n",
    "print(\"We have an average of {num:.2f} comments within show posts.\".format(num=avg_show_comments))\n",
    "num_other = len(other_posts)\n",
    "print(\"We have an average of {num:.2f} comments within other posts.\".format(num=avg_other_comments))"
   ]
  },
  {
   "cell_type": "markdown",
   "metadata": {},
   "source": [
    "**Findings**         \n",
    "It appears that there are more comments on avergae with the ask posts than the show posts."
   ]
  },
  {
   "cell_type": "markdown",
   "metadata": {},
   "source": [
    "**Next Section**            \n",
    "Just focusing on the ask_posts:\n",
    "Do posts made at a certain time attract more posts?\n",
    "1. Calculate the amount of posts in each hour of the day with the number of comments recieved\n",
    "2. Calculate avergae number of comments ask posts receive by hour created"
   ]
  },
  {
   "cell_type": "code",
   "execution_count": 4,
   "metadata": {},
   "outputs": [
    {
     "name": "stdout",
     "output_type": "stream",
     "text": [
      "['id', 'title', 'url', 'num_points', 'num_comments', 'author', 'created_at']\n"
     ]
    }
   ],
   "source": [
    "print(headers)"
   ]
  },
  {
   "cell_type": "code",
   "execution_count": 5,
   "metadata": {
    "scrolled": true
   },
   "outputs": [
    {
     "name": "stdout",
     "output_type": "stream",
     "text": [
      "[['8/16/2016 9:55', 6]]\n",
      "\n",
      "Counts for each hour: \n",
      "{'09': 45, '13': 85, '10': 59, '14': 107, '16': 108, '23': 68, '12': 73, '17': 100, '15': 116, '21': 109, '20': 80, '02': 58, '18': 109, '03': 54, '05': 46, '19': 110, '01': 60, '22': 71, '08': 48, '04': 47, '00': 55, '06': 44, '07': 34, '11': 58}\n",
      "\n",
      "Comments for each hour: \n",
      "{'09': 251, '13': 1253, '10': 793, '14': 1416, '16': 1814, '23': 543, '12': 687, '17': 1146, '15': 4477, '21': 1745, '20': 1722, '02': 1381, '18': 1439, '03': 421, '05': 464, '19': 1188, '01': 683, '22': 479, '08': 492, '04': 337, '00': 447, '06': 397, '07': 267, '11': 641}\n"
     ]
    }
   ],
   "source": [
    "from datetime import datetime as dt\n",
    "result_list = []\n",
    "\n",
    "# To separate the date and time created and the number of comments out into a new list\n",
    "for row in ask_posts:\n",
    "    created_at = row[6]\n",
    "    num_comments = int(row[4])\n",
    "    result_list.append([created_at, num_comments])\n",
    "    \n",
    "# To test\n",
    "# print(ask_posts[:2]) \n",
    "# print()\n",
    "print(result_list[:1])\n",
    "print()    \n",
    "    \n",
    "counts_by_hour = {}\n",
    "comments_by_hour = {}\n",
    "\n",
    "for row in result_list:\n",
    "    num_comments = row[1]\n",
    "    dt_string = row[0]\n",
    "    dt_object1 = dt.strptime(dt_string, \"%m/%d/%Y %H:%M\") \n",
    "    hour = dt_object1.strftime(\"%H\")\n",
    "    if hour not in counts_by_hour:\n",
    "        counts_by_hour[hour] = 1\n",
    "        comments_by_hour[hour] = num_comments\n",
    "    else:\n",
    "        counts_by_hour[hour] += 1\n",
    "        comments_by_hour[hour] += num_comments\n",
    "    \n",
    "    \n",
    "print(\"Counts for each hour: \")\n",
    "print(counts_by_hour)\n",
    "print()\n",
    "print(\"Comments for each hour: \")\n",
    "print(comments_by_hour)"
   ]
  },
  {
   "cell_type": "markdown",
   "metadata": {},
   "source": [
    "**Calculating the average number of comments for posts during each hour of the day**\n"
   ]
  },
  {
   "cell_type": "code",
   "execution_count": 6,
   "metadata": {},
   "outputs": [
    {
     "name": "stdout",
     "output_type": "stream",
     "text": [
      "['00', 8.13]\n",
      "['01', 11.38]\n",
      "['02', 23.81]\n",
      "['03', 7.8]\n",
      "['04', 7.17]\n",
      "['05', 10.09]\n",
      "['06', 9.02]\n",
      "['07', 7.85]\n",
      "['08', 10.25]\n",
      "['09', 5.58]\n",
      "['10', 13.44]\n",
      "['11', 11.05]\n",
      "['12', 9.41]\n",
      "['13', 14.74]\n",
      "['14', 13.23]\n",
      "['15', 38.59]\n",
      "['16', 16.8]\n",
      "['17', 11.46]\n",
      "['18', 13.2]\n",
      "['19', 10.8]\n",
      "['20', 21.52]\n",
      "['21', 16.01]\n",
      "['22', 6.75]\n",
      "['23', 7.99]\n"
     ]
    }
   ],
   "source": [
    "avg_by_hour = []\n",
    "\n",
    "for key in counts_by_hour:\n",
    "    avg = comments_by_hour[key] / counts_by_hour[key]\n",
    "    avg_by_hour.append([key, round(avg, 2)])\n",
    "    \n",
    "# I need to sort the list     \n",
    "avg_by_hour.sort()    \n",
    "\n",
    "# To nicely print\n",
    "for row in avg_by_hour:\n",
    "    print(row)  "
   ]
  },
  {
   "cell_type": "markdown",
   "metadata": {},
   "source": [
    "**Putting the highest average comments at the top of the list**"
   ]
  },
  {
   "cell_type": "code",
   "execution_count": 7,
   "metadata": {},
   "outputs": [
    {
     "name": "stdout",
     "output_type": "stream",
     "text": [
      "[8.13, '00']\n",
      "[11.38, '01']\n",
      "[23.81, '02']\n",
      "[7.8, '03']\n",
      "[7.17, '04']\n",
      "[10.09, '05']\n",
      "[9.02, '06']\n",
      "[7.85, '07']\n",
      "[10.25, '08']\n",
      "[5.58, '09']\n",
      "[13.44, '10']\n",
      "[11.05, '11']\n",
      "[9.41, '12']\n",
      "[14.74, '13']\n",
      "[13.23, '14']\n",
      "[38.59, '15']\n",
      "[16.8, '16']\n",
      "[11.46, '17']\n",
      "[13.2, '18']\n",
      "[10.8, '19']\n",
      "[21.52, '20']\n",
      "[16.01, '21']\n",
      "[6.75, '22']\n",
      "[7.99, '23']\n"
     ]
    }
   ],
   "source": [
    "swap_avg_by_hour = []\n",
    "for row in avg_by_hour:\n",
    "    hour = row[0]\n",
    "    avg = row[1]\n",
    "    swap_avg_by_hour.append([avg, hour])\n",
    "\n",
    "for row in swap_avg_by_hour:\n",
    "    print(row)"
   ]
  },
  {
   "cell_type": "code",
   "execution_count": 8,
   "metadata": {},
   "outputs": [
    {
     "name": "stdout",
     "output_type": "stream",
     "text": [
      "[8.13, '00']\n",
      "[11.38, '01']\n",
      "[23.81, '02']\n",
      "[7.8, '03']\n",
      "[7.17, '04']\n",
      "[10.09, '05']\n",
      "[9.02, '06']\n",
      "[7.85, '07']\n",
      "[10.25, '08']\n",
      "[5.58, '09']\n",
      "[13.44, '10']\n",
      "[11.05, '11']\n",
      "[9.41, '12']\n",
      "[14.74, '13']\n",
      "[13.23, '14']\n",
      "[38.59, '15']\n",
      "[16.8, '16']\n",
      "[11.46, '17']\n",
      "[13.2, '18']\n",
      "[10.8, '19']\n",
      "[21.52, '20']\n",
      "[16.01, '21']\n",
      "[6.75, '22']\n",
      "[7.99, '23']\n"
     ]
    }
   ],
   "source": [
    "sorted_swap = sorted(swap_avg_by_hour, reverse = True)\n",
    "\n",
    "for row in swap_avg_by_hour:\n",
    "    print(row)"
   ]
  },
  {
   "cell_type": "markdown",
   "metadata": {},
   "source": [
    "Aim is to make this format:               \n",
    "15:00: 38.59 average comments per post"
   ]
  },
  {
   "cell_type": "code",
   "execution_count": 11,
   "metadata": {},
   "outputs": [
    {
     "name": "stdout",
     "output_type": "stream",
     "text": [
      "Top 5 Hours for Ask Posts Comments\n",
      "15:00: 38.59 average comments per post\n",
      "02:00: 23.81 average comments per post\n",
      "20:00: 21.52 average comments per post\n",
      "16:00: 16.8 average comments per post\n",
      "21:00: 16.01 average comments per post\n"
     ]
    }
   ],
   "source": [
    "print(\"Top 5 Hours for Ask Posts Comments\")\n",
    "\n",
    "for row in sorted_swap[:5]:\n",
    "    hour = dt.strptime(row[1], '%H')\n",
    "    hour_str = hour.strftime('%H:%M')\n",
    "    print(\"{time}: {avg} average comments per post\".format(time= hour_str, avg= row[0]))\n",
    "   "
   ]
  },
  {
   "cell_type": "markdown",
   "metadata": {},
   "source": [
    "**Final Recommendations:**                 \n",
    "Above are the top five hours for a post that has the highest chance for the highest average comments. If you would like the maximium chances for a comment I would recommend posting at 2am, 3pm or 8pm. If I was to recommend one specific time, it appears that 3pm has the highest."
   ]
  }
 ],
 "metadata": {
  "kernelspec": {
   "display_name": "Python 3",
   "language": "python",
   "name": "python3"
  },
  "language_info": {
   "codemirror_mode": {
    "name": "ipython",
    "version": 3
   },
   "file_extension": ".py",
   "mimetype": "text/x-python",
   "name": "python",
   "nbconvert_exporter": "python",
   "pygments_lexer": "ipython3",
   "version": "3.8.8"
  }
 },
 "nbformat": 4,
 "nbformat_minor": 2
}
